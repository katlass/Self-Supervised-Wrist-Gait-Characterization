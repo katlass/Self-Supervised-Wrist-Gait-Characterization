{
 "cells": [
  {
   "cell_type": "markdown",
   "id": "aac3694d-4d82-4b41-bf2d-d1ee7010857e",
   "metadata": {},
   "source": [
    "# Objective\n",
    "\n",
    "Author: Kate Lassiter\n",
    "\n",
    "Battling class imbalance issues to improve DCNN precision/recall."
   ]
  },
  {
   "cell_type": "code",
   "execution_count": 3,
   "id": "e081aeea-447f-442e-870f-4eff0c6aa977",
   "metadata": {},
   "outputs": [],
   "source": [
    "import sys\n",
    "sys.path.append(\"../\")\n",
    "import joblib\n",
    "import os\n",
    "import torch\n",
    "import torch.nn as nn\n",
    "import numpy as np\n",
    "import pandas as pd\n",
    "from torch.utils.data import DataLoader\n",
    "from tqdm import tqdm\n",
    "from sklearn.model_selection import GroupShuffleSplit\n",
    "from sklearn.preprocessing import LabelEncoder\n",
    "from utils.data import NormalDataset, resize, get_inverse_class_weights\n",
    "from utils.utils import EarlyStopping\n",
    "import pandas as pd\n",
    "import numpy as np\n",
    "from sklearn.model_selection import train_test_split\n",
    "import pandas as pd\n",
    "import numpy as np\n",
    "from sklearn.model_selection import train_test_split\n",
    "from imblearn.over_sampling import SMOTE\n",
    "from collections import Counter\n",
    "import torch\n",
    "import numpy as np\n",
    "from torch.utils.data import DataLoader, TensorDataset\n",
    "from tqdm import tqdm\n",
    "from imblearn.over_sampling import RandomOverSampler\n",
    "from torch.utils.data import DataLoader, TensorDataset\n",
    "from collections import Counter"
   ]
  },
  {
   "cell_type": "code",
   "execution_count": null,
   "id": "614d8d73-bb4b-4fee-89dc-f39123a63789",
   "metadata": {},
   "outputs": [],
   "source": [
    "# Data Tranformations\n",
    "device=\"cpu\"\n",
    "csv_file_path = \"/XXXX.csv\"\n",
    "hip_data = pd.read_csv(csv_file_path)\n",
    "\n",
    "num_rows = hip_data.shape[0] # Add a 'group' field, dividing the dataset into 10 equal parts\n",
    "group_size = num_rows // 10  # Calculate the number of rows per group\n",
    "# Create an array with group labels (1 to 10) repeated for each group size\n",
    "group_labels = np.repeat(np.arange(1, 11), group_size)\n",
    "\n",
    "# If remaining rows due to integer division assign them to last group\n",
    "if len(group_labels) < num_rows:\n",
    "    group_labels = np.concatenate([group_labels, np.full(num_rows - len(group_labels), 10)])\n",
    "hip_data['group'] = group_labels # Assign the group labels \n",
    "\n",
    "X = hip_data[['x', 'y', 'z']].values\n",
    "y = hip_data['annotation'].values\n",
    "groups = hip_data['group'].values\n",
    "\n",
    "# Reshape the data into windows of size X\n",
    "def create_windows(data, labels, groups, window_size):\n",
    "    num_windows = data.shape[0] // window_size\n",
    "    X_windows = data[:num_windows * window_size].reshape(num_windows, window_size, -1)\n",
    "    y_windows = labels[window_size-1:num_windows * window_size:window_size]  # One label per window\n",
    "    group_windows = groups[window_size-1:num_windows * window_size:window_size]  # One group per window\n",
    "    return X_windows, y_windows, group_windows"
   ]
  },
  {
   "cell_type": "code",
   "execution_count": 17,
   "id": "511d7e08-6001-44cd-a6c9-c5d825ae50fc",
   "metadata": {},
   "outputs": [
    {
     "data": {
      "text/plain": [
       "annotation\n",
       "0    1071224\n",
       "1       8774\n",
       "Name: count, dtype: int64"
      ]
     },
     "execution_count": 17,
     "metadata": {},
     "output_type": "execute_result"
    }
   ],
   "source": [
    "hip_data['annotation'].value_counts()"
   ]
  },
  {
   "cell_type": "code",
   "execution_count": 15,
   "id": "ca52c22b-6ee1-45c4-9d03-75e484fa6a6b",
   "metadata": {},
   "outputs": [
    {
     "name": "stdout",
     "output_type": "stream",
     "text": [
      "<class 'pandas.core.frame.DataFrame'>\n",
      "RangeIndex: 1079998 entries, 0 to 1079997\n",
      "Data columns (total 6 columns):\n",
      " #   Column      Non-Null Count    Dtype  \n",
      "---  ------      --------------    -----  \n",
      " 0   timestamp   1079998 non-null  object \n",
      " 1   x           1079998 non-null  float64\n",
      " 2   y           1079998 non-null  float64\n",
      " 3   z           1079998 non-null  float64\n",
      " 4   annotation  1079998 non-null  int64  \n",
      " 5   patient_id  1079998 non-null  int64  \n",
      "dtypes: float64(3), int64(2), object(1)\n",
      "memory usage: 49.4+ MB\n"
     ]
    }
   ],
   "source": [
    "hip_data.info()"
   ]
  },
  {
   "cell_type": "code",
   "execution_count": 21,
   "id": "e7adf7e6-c328-4996-a76d-2547d8a3730f",
   "metadata": {},
   "outputs": [
    {
     "name": "stdout",
     "output_type": "stream",
     "text": [
      "(((755, 1000, 3), (755,), (755,)), ((162, 1000, 3), (162,), (162,)), ((162, 1000, 3), (162,), (162,)))\n"
     ]
    }
   ],
   "source": [
    "window_size= 1000\n",
    "X_windows, y_windows, group_windows = create_windows(X, y, groups, window_size)\n",
    "\n",
    "# Split the data into train, validation, and test sets\n",
    "x_train, x_temp, y_train, y_temp, group_train, group_temp = train_test_split(\n",
    "    X_windows, y_windows, group_windows, test_size=0.3, random_state=42\n",
    ")\n",
    "\n",
    "x_val, x_test, y_val, y_test, group_val, group_test = train_test_split(\n",
    "    x_temp, y_temp, group_temp, test_size=0.5, random_state=42\n",
    ")\n",
    "\n",
    "# Output shapes:\n",
    "print(((x_train.shape, y_train.shape, group_train.shape),\n",
    "       (x_val.shape, y_val.shape, group_val.shape),\n",
    "       (x_test.shape, y_test.shape, group_test.shape)))"
   ]
  },
  {
   "cell_type": "code",
   "execution_count": 23,
   "id": "a51f62ec-8a6f-4edf-8f8e-bbf3d8300604",
   "metadata": {},
   "outputs": [
    {
     "name": "stderr",
     "output_type": "stream",
     "text": [
      "Using cache found in /Users/kat/.cache/torch/hub/OxWearables_ssl-wearables_main\n",
      "/Users/kat/.cache/torch/hub/OxWearables_ssl-wearables_main/hubconf.py:15: FutureWarning: You are using `torch.load` with `weights_only=False` (the current default value), which uses the default pickle module implicitly. It is possible to construct malicious pickle data which will execute arbitrary code during unpickling (See https://github.com/pytorch/pytorch/blob/main/SECURITY.md#untrusted-models for more details). In a future release, the default value for `weights_only` will be flipped to `True`. This limits the functions that could be executed during unpickling. Arbitrary objects will no longer be allowed to be loaded via this mode unless they are explicitly allowlisted by the user via `torch.serialization.add_safe_globals`. We recommend you start setting `weights_only=True` for any use case where you don't have full control of the loaded file. Please open an issue on GitHub for any issues related to this experimental feature.\n",
      "  pretrained_dict = torch.load(weight_path, map_location=my_device)\n"
     ]
    },
    {
     "name": "stdout",
     "output_type": "stream",
     "text": [
      "131 Weights loaded\n",
      "training set sample count : 755\n",
      "validation set sample count : 162\n",
      "test set sample count : 162\n"
     ]
    }
   ],
   "source": [
    "repo = 'OxWearables/ssl-wearables'\n",
    "sslnet: nn.Module = torch.hub.load(repo, 'harnet30', trust_repo=True, class_num=2, pretrained=True, weights_only=False)\n",
    "sslnet.to(device)\n",
    "\n",
    "train_dataset = NormalDataset(x_train, y_train, group_train, name=\"training\", transform=True)\n",
    "val_dataset = NormalDataset(x_val, y_val, group_val, name=\"validation\")\n",
    "test_dataset = NormalDataset(x_test, y_test, group_test, name=\"test\")\n",
    "\n",
    "train_loader = DataLoader(\n",
    "    train_dataset,\n",
    "    batch_size=128,\n",
    "    shuffle=True,\n",
    "    num_workers=1,\n",
    ")\n",
    "\n",
    "val_loader = DataLoader(\n",
    "    val_dataset,\n",
    "    batch_size=128,\n",
    "    shuffle=False,\n",
    "    num_workers=1,\n",
    ")\n",
    "\n",
    "test_loader = DataLoader(\n",
    "    test_dataset,\n",
    "    batch_size=128,\n",
    "    shuffle=False,\n",
    "    num_workers=1,\n",
    ")"
   ]
  },
  {
   "cell_type": "code",
   "execution_count": 25,
   "id": "d93dec6c-6d01-4d6e-a1d4-e999ba81816f",
   "metadata": {
    "scrolled": true
   },
   "outputs": [],
   "source": [
    "def train(model, train_loader, val_loader, device, loss_fn, num_epoch=5, state_dict='state_dict.pt'):\n",
    "    optimizer = torch.optim.Adam(model.parameters())\n",
    "    early_stopping = EarlyStopping(patience=5, verbose=True, path=state_dict)\n",
    "    \n",
    "    for epoch in range(num_epoch):\n",
    "        model.train()\n",
    "        train_losses = []\n",
    "        train_acces = []\n",
    "        for i, (x, y, _) in enumerate(tqdm(train_loader)):\n",
    "            x.requires_grad_(True)\n",
    "            x = x.to(device, dtype=torch.float)\n",
    "            true_y = y.to(device, dtype=torch.long)\n",
    "\n",
    "            optimizer.zero_grad()\n",
    "            logits = model(x)\n",
    "            loss = loss_fn(logits, true_y)\n",
    "            loss.backward()\n",
    "            optimizer.step()\n",
    "\n",
    "            pred_y = torch.argmax(logits, dim=1)\n",
    "            train_acc = torch.sum(pred_y == true_y) / pred_y.size()[0]\n",
    "\n",
    "            train_losses.append(loss.cpu().detach())\n",
    "            train_acces.append(train_acc.cpu().detach())\n",
    "\n",
    "        val_loss, val_acc = _validate_model(model, val_loader, device, loss_fn)\n",
    "\n",
    "        epoch_len = len(str(num_epoch))\n",
    "        print_msg = (\n",
    "            f\"[{epoch:>{epoch_len}}/{num_epoch:>{epoch_len}}] | \"\n",
    "            + f\"train_loss: {np.mean(train_losses):.3f} | \"\n",
    "            + f\"train_acc: {np.mean(train_acces):.3f} | \"\n",
    "            + f\"val_loss: {val_loss:.3f} | \"\n",
    "            + f\"val_acc: {val_acc:.2f}\"\n",
    "        )\n",
    "\n",
    "        early_stopping(val_loss, model)\n",
    "        print(print_msg)\n",
    "\n",
    "        if early_stopping.early_stop:\n",
    "            print('Early stopping')\n",
    "            print(f'SSLNet weights saved to {state_dict}')\n",
    "            break\n",
    "\n",
    "def _validate_model(model, val_loader, device, loss_fn):\n",
    "    model.eval()\n",
    "    losses = []\n",
    "    acces = []\n",
    "    for x, y, _ in val_loader:\n",
    "        with torch.inference_mode():\n",
    "            x = x.to(device, dtype=torch.float)\n",
    "            true_y = y.to(device, dtype=torch.long)\n",
    "\n",
    "            logits = model(x)\n",
    "            loss = loss_fn(logits, true_y)\n",
    "\n",
    "            pred_y = torch.argmax(logits, dim=1)\n",
    "            val_acc = torch.sum(pred_y == true_y) / pred_y.size()[0]\n",
    "\n",
    "            losses.append(loss.cpu().detach())\n",
    "            acces.append(val_acc.cpu().detach())\n",
    "\n",
    "    return np.mean(losses), np.mean(acces)\n",
    "\n",
    "def predict(model, data_loader, device):\n",
    "    from tqdm import tqdm\n",
    "\n",
    "    predictions_list = []\n",
    "    true_list = []\n",
    "    pid_list = []\n",
    "    model.eval()\n",
    "\n",
    "    for i, (x, y, pid) in enumerate(tqdm(data_loader)):\n",
    "        with torch.inference_mode():\n",
    "            x = x.to(device, dtype=torch.float)\n",
    "            logits = model(x)\n",
    "            true_list.append(y)\n",
    "            pred_y = torch.argmax(logits, dim=1)\n",
    "            predictions_list.append(pred_y.cpu())\n",
    "            pid_list.extend(pid)\n",
    "    true_list = torch.cat(true_list)\n",
    "    predictions_list = torch.cat(predictions_list)\n",
    "\n",
    "    return (\n",
    "        torch.flatten(true_list).numpy(),\n",
    "        torch.flatten(predictions_list).numpy(),\n",
    "        np.array(pid_list),\n",
    "    )\n"
   ]
  },
  {
   "cell_type": "markdown",
   "id": "78a098f7-5e98-418c-8655-01829b245478",
   "metadata": {},
   "source": [
    "## Perfect Accuracy, Poor Precision/Recall\n",
    "### 1. SMOTE\n",
    "### 2. Oversample Minority Class With and Without Added Random Noise"
   ]
  },
  {
   "cell_type": "markdown",
   "id": "54a97afd-f4bb-411c-a13f-f618a91df83c",
   "metadata": {},
   "source": [
    "## SMOTE"
   ]
  },
  {
   "cell_type": "code",
   "execution_count": 30,
   "id": "a697aadc-8745-498c-83cb-0962cb96124b",
   "metadata": {},
   "outputs": [
    {
     "name": "stdout",
     "output_type": "stream",
     "text": [
      "\n"
     ]
    }
   ],
   "source": [
    "def smote_oversample(train_loader, device):\n",
    "    all_data=[]\n",
    "    all_labels=[]\n",
    "    for x, y, _ in train_loader:\n",
    "        all_data.append(x.view(x.size(0), -1)) \n",
    "        all_labels.append(y)\n",
    "    all_data =torch.cat(all_data, dim=0).cpu().numpy() \n",
    "    all_labels = torch.cat(all_labels, dim=0).cpu().numpy()\n",
    "    smote= SMOTE(random_state=42, k_neighbors=1)\n",
    "    X_resampled,y_resampled= smote.fit_resample(all_data, all_labels)\n",
    "    X_resampled = torch.tensor(X_resampled).to(device).view(-1, 3, 1000) \n",
    "    y_resampled =torch.tensor(y_resampled).to(device)    \n",
    "    resampled_dataset = TensorDataset(X_resampled, y_resampled)\n",
    "    resampled_loader= DataLoader(resampled_dataset,batch_size=train_loader.batch_size,shuffle=True)\n",
    "    return resampled_loader\n",
    "\n",
    "balanced_train_loader=smote_oversample(train_loader, device)\n",
    "balanced_classes=Counter([y for _, y, _ in balanced_train_loader])\n",
    "print(\"Class distribution after SMOTE:\", balanced_classes)\n",
    "train(model, balanced_train_loader, val_loader, device, loss_fn)"
   ]
  },
  {
   "cell_type": "code",
   "execution_count": 29,
   "id": "53d242d4-d1c2-4152-adb0-5a3f8e72645c",
   "metadata": {},
   "outputs": [
    {
     "name": "stdout",
     "output_type": "stream",
     "text": [
      "[tensor([[[ 0.9792,  0.7696,  0.7637,  ...,  0.6142,  0.5616,  0.6234],\n",
      "         [-0.7948, -0.4440, -0.1553,  ..., -0.7147, -0.8886, -0.7669],\n",
      "         [-0.5895, -0.7967, -0.9871,  ..., -0.6965, -0.4968, -0.6669]],\n",
      "\n",
      "        [[-0.5607, -0.6266, -0.6641,  ..., -0.4624, -0.3890, -0.3532],\n",
      "         [-0.2344, -0.2416, -0.2372,  ..., -0.0586, -0.0021,  0.0344],\n",
      "         [ 0.9527,  1.0320,  1.0962,  ...,  0.7521,  0.6956,  0.6397]],\n",
      "\n",
      "        [[-0.9103, -0.9099, -0.9101,  ..., -0.8424, -0.6897, -0.5804],\n",
      "         [ 0.3820,  0.3664,  0.3660,  ...,  0.5981,  0.4133,  0.3186],\n",
      "         [-0.0053, -0.0198, -0.0217,  ..., -0.4965, -0.5230, -0.4307]],\n",
      "\n",
      "        ...,\n",
      "\n",
      "        [[-0.5469, -0.6025, -0.6357,  ..., -0.5009, -0.4188, -0.3749],\n",
      "         [-0.1905, -0.1949, -0.1912,  ..., -0.0214,  0.0405,  0.0813],\n",
      "         [ 0.9237,  0.9924,  1.0470,  ...,  0.7910,  0.7277,  0.6630]],\n",
      "\n",
      "        [[ 1.0070,  0.7709,  0.7709,  ...,  0.6056,  0.5487,  0.6212],\n",
      "         [-0.8845, -0.4847, -0.1557,  ..., -0.7781, -0.9758, -0.8399],\n",
      "         [-0.5722, -0.8087, -1.0293,  ..., -0.7022, -0.4738, -0.6693]],\n",
      "\n",
      "        [[-0.2920, -0.3177, -0.3315,  ..., -0.4612, -0.5889, -0.5235],\n",
      "         [-0.4853, -0.3779, -0.1631,  ..., -0.2120, -0.2774, -0.2757],\n",
      "         [-0.6148, -0.7316, -0.8515,  ..., -1.3784, -1.4327, -1.3340]]],\n",
      "       dtype=torch.float64), tensor([1, 1, 0, 0, 0, 1, 1, 0, 1, 0, 0, 0, 1, 0, 0, 0, 1, 1, 0, 0, 0, 1, 1, 0,\n",
      "        1, 1, 1, 0, 1, 1, 0, 0, 0, 0, 0, 0, 1, 1, 1, 1, 0, 0, 0, 0, 1, 1, 0, 1,\n",
      "        0, 1, 0, 0, 0, 1, 1, 0, 1, 1, 1, 1, 0, 1, 0, 0, 1, 0, 0, 1, 0, 1, 1, 1,\n",
      "        1, 1, 0, 0, 0, 1, 1, 0, 1, 0, 0, 0, 1, 1, 1, 0, 1, 0, 0, 1, 0, 0, 0, 0,\n",
      "        1, 1, 1, 0, 0, 0, 1, 0, 0, 0, 0, 0, 0, 0, 1, 0, 1, 1, 1, 0, 1, 1, 0, 1,\n",
      "        1, 0, 1, 0, 0, 1, 1, 0])]\n"
     ]
    }
   ],
   "source": [
    "for x in balanced_train_loader:\n",
    "    print(x)\n",
    "    break"
   ]
  },
  {
   "cell_type": "markdown",
   "id": "93a2fb8a-151e-4075-bcf3-ac32bd3b7a0e",
   "metadata": {},
   "source": [
    "## Random Oversampling Minority Class, with and without Noise"
   ]
  },
  {
   "cell_type": "code",
   "execution_count": 31,
   "id": "342a4ed1-becb-4ebc-80a5-3537ce6becd0",
   "metadata": {},
   "outputs": [
    {
     "name": "stderr",
     "output_type": "stream",
     "text": [
      "Using cache found in /Users/kat/.cache/torch/hub/OxWearables_ssl-wearables_main\n",
      "/Users/kat/.cache/torch/hub/OxWearables_ssl-wearables_main/hubconf.py:15: FutureWarning: You are using `torch.load` with `weights_only=False` (the current default value), which uses the default pickle module implicitly. It is possible to construct malicious pickle data which will execute arbitrary code during unpickling (See https://github.com/pytorch/pytorch/blob/main/SECURITY.md#untrusted-models for more details). In a future release, the default value for `weights_only` will be flipped to `True`. This limits the functions that could be executed during unpickling. Arbitrary objects will no longer be allowed to be loaded via this mode unless they are explicitly allowlisted by the user via `torch.serialization.add_safe_globals`. We recommend you start setting `weights_only=True` for any use case where you don't have full control of the loaded file. Please open an issue on GitHub for any issues related to this experimental feature.\n",
      "  pretrained_dict = torch.load(weight_path, map_location=my_device)\n"
     ]
    },
    {
     "name": "stdout",
     "output_type": "stream",
     "text": [
      "131 Weights loaded\n"
     ]
    },
    {
     "data": {
      "text/plain": [
       "Resnet(\n",
       "  (feature_extractor): Sequential(\n",
       "    (layer1): Sequential(\n",
       "      (0): Conv1d(3, 64, kernel_size=(5,), stride=(1,), padding=(2,), bias=False, padding_mode=circular)\n",
       "      (1): ResBlock(\n",
       "        (bn1): BatchNorm1d(64, eps=1e-05, momentum=0.1, affine=True, track_running_stats=True)\n",
       "        (bn2): BatchNorm1d(64, eps=1e-05, momentum=0.1, affine=True, track_running_stats=True)\n",
       "        (conv1): Conv1d(64, 64, kernel_size=(5,), stride=(1,), padding=(2,), bias=False, padding_mode=circular)\n",
       "        (conv2): Conv1d(64, 64, kernel_size=(5,), stride=(1,), padding=(2,), bias=False, padding_mode=circular)\n",
       "        (relu): ReLU(inplace=True)\n",
       "      )\n",
       "      (2): ResBlock(\n",
       "        (bn1): BatchNorm1d(64, eps=1e-05, momentum=0.1, affine=True, track_running_stats=True)\n",
       "        (bn2): BatchNorm1d(64, eps=1e-05, momentum=0.1, affine=True, track_running_stats=True)\n",
       "        (conv1): Conv1d(64, 64, kernel_size=(5,), stride=(1,), padding=(2,), bias=False, padding_mode=circular)\n",
       "        (conv2): Conv1d(64, 64, kernel_size=(5,), stride=(1,), padding=(2,), bias=False, padding_mode=circular)\n",
       "        (relu): ReLU(inplace=True)\n",
       "      )\n",
       "      (3): BatchNorm1d(64, eps=1e-05, momentum=0.1, affine=True, track_running_stats=True)\n",
       "      (4): ReLU(inplace=True)\n",
       "      (5): Downsample()\n",
       "    )\n",
       "    (layer2): Sequential(\n",
       "      (0): Conv1d(64, 128, kernel_size=(5,), stride=(1,), padding=(2,), bias=False, padding_mode=circular)\n",
       "      (1): ResBlock(\n",
       "        (bn1): BatchNorm1d(128, eps=1e-05, momentum=0.1, affine=True, track_running_stats=True)\n",
       "        (bn2): BatchNorm1d(128, eps=1e-05, momentum=0.1, affine=True, track_running_stats=True)\n",
       "        (conv1): Conv1d(128, 128, kernel_size=(5,), stride=(1,), padding=(2,), bias=False, padding_mode=circular)\n",
       "        (conv2): Conv1d(128, 128, kernel_size=(5,), stride=(1,), padding=(2,), bias=False, padding_mode=circular)\n",
       "        (relu): ReLU(inplace=True)\n",
       "      )\n",
       "      (2): ResBlock(\n",
       "        (bn1): BatchNorm1d(128, eps=1e-05, momentum=0.1, affine=True, track_running_stats=True)\n",
       "        (bn2): BatchNorm1d(128, eps=1e-05, momentum=0.1, affine=True, track_running_stats=True)\n",
       "        (conv1): Conv1d(128, 128, kernel_size=(5,), stride=(1,), padding=(2,), bias=False, padding_mode=circular)\n",
       "        (conv2): Conv1d(128, 128, kernel_size=(5,), stride=(1,), padding=(2,), bias=False, padding_mode=circular)\n",
       "        (relu): ReLU(inplace=True)\n",
       "      )\n",
       "      (3): BatchNorm1d(128, eps=1e-05, momentum=0.1, affine=True, track_running_stats=True)\n",
       "      (4): ReLU(inplace=True)\n",
       "      (5): Downsample()\n",
       "    )\n",
       "    (layer3): Sequential(\n",
       "      (0): Conv1d(128, 256, kernel_size=(5,), stride=(1,), padding=(2,), bias=False, padding_mode=circular)\n",
       "      (1): ResBlock(\n",
       "        (bn1): BatchNorm1d(256, eps=1e-05, momentum=0.1, affine=True, track_running_stats=True)\n",
       "        (bn2): BatchNorm1d(256, eps=1e-05, momentum=0.1, affine=True, track_running_stats=True)\n",
       "        (conv1): Conv1d(256, 256, kernel_size=(5,), stride=(1,), padding=(2,), bias=False, padding_mode=circular)\n",
       "        (conv2): Conv1d(256, 256, kernel_size=(5,), stride=(1,), padding=(2,), bias=False, padding_mode=circular)\n",
       "        (relu): ReLU(inplace=True)\n",
       "      )\n",
       "      (2): ResBlock(\n",
       "        (bn1): BatchNorm1d(256, eps=1e-05, momentum=0.1, affine=True, track_running_stats=True)\n",
       "        (bn2): BatchNorm1d(256, eps=1e-05, momentum=0.1, affine=True, track_running_stats=True)\n",
       "        (conv1): Conv1d(256, 256, kernel_size=(5,), stride=(1,), padding=(2,), bias=False, padding_mode=circular)\n",
       "        (conv2): Conv1d(256, 256, kernel_size=(5,), stride=(1,), padding=(2,), bias=False, padding_mode=circular)\n",
       "        (relu): ReLU(inplace=True)\n",
       "      )\n",
       "      (3): BatchNorm1d(256, eps=1e-05, momentum=0.1, affine=True, track_running_stats=True)\n",
       "      (4): ReLU(inplace=True)\n",
       "      (5): Downsample()\n",
       "    )\n",
       "    (layer4): Sequential(\n",
       "      (0): Conv1d(256, 512, kernel_size=(5,), stride=(1,), padding=(2,), bias=False, padding_mode=circular)\n",
       "      (1): ResBlock(\n",
       "        (bn1): BatchNorm1d(512, eps=1e-05, momentum=0.1, affine=True, track_running_stats=True)\n",
       "        (bn2): BatchNorm1d(512, eps=1e-05, momentum=0.1, affine=True, track_running_stats=True)\n",
       "        (conv1): Conv1d(512, 512, kernel_size=(5,), stride=(1,), padding=(2,), bias=False, padding_mode=circular)\n",
       "        (conv2): Conv1d(512, 512, kernel_size=(5,), stride=(1,), padding=(2,), bias=False, padding_mode=circular)\n",
       "        (relu): ReLU(inplace=True)\n",
       "      )\n",
       "      (2): ResBlock(\n",
       "        (bn1): BatchNorm1d(512, eps=1e-05, momentum=0.1, affine=True, track_running_stats=True)\n",
       "        (bn2): BatchNorm1d(512, eps=1e-05, momentum=0.1, affine=True, track_running_stats=True)\n",
       "        (conv1): Conv1d(512, 512, kernel_size=(5,), stride=(1,), padding=(2,), bias=False, padding_mode=circular)\n",
       "        (conv2): Conv1d(512, 512, kernel_size=(5,), stride=(1,), padding=(2,), bias=False, padding_mode=circular)\n",
       "        (relu): ReLU(inplace=True)\n",
       "      )\n",
       "      (3): BatchNorm1d(512, eps=1e-05, momentum=0.1, affine=True, track_running_stats=True)\n",
       "      (4): ReLU(inplace=True)\n",
       "      (5): Downsample()\n",
       "    )\n",
       "    (layer5): Sequential(\n",
       "      (0): Conv1d(512, 1024, kernel_size=(5,), stride=(1,), padding=(2,), bias=False, padding_mode=circular)\n",
       "      (1): BatchNorm1d(1024, eps=1e-05, momentum=0.1, affine=True, track_running_stats=True)\n",
       "      (2): ReLU(inplace=True)\n",
       "      (3): Downsample()\n",
       "    )\n",
       "  )\n",
       "  (classifier): EvaClassifier(\n",
       "    (linear1): Linear(in_features=1024, out_features=512, bias=True)\n",
       "    (linear2): Linear(in_features=512, out_features=2, bias=True)\n",
       "  )\n",
       ")"
      ]
     },
     "execution_count": 31,
     "metadata": {},
     "output_type": "execute_result"
    }
   ],
   "source": [
    "repo = 'OxWearables/ssl-wearables'\n",
    "sslnet: nn.Module = torch.hub.load(repo, 'harnet30', trust_repo=True, class_num=2, pretrained=True, weights_only=False)\n",
    "sslnet.to(device)"
   ]
  },
  {
   "cell_type": "code",
   "execution_count": 33,
   "id": "90537293-3d5d-4783-b70c-3d552c9ea567",
   "metadata": {},
   "outputs": [
    {
     "name": "stdout",
     "output_type": "stream",
     "text": [
      "Class distribution after Random Oversampling: Counter({1: 747, 0: 747})\n",
      "Inverse class weights: \n",
      "[1.0107095046854082, 94.375]\n"
     ]
    },
    {
     "name": "stderr",
     "output_type": "stream",
     "text": [
      "100%|███████████████████████████████████████████| 12/12 [01:54<00:00,  9.50s/it]\n"
     ]
    },
    {
     "name": "stdout",
     "output_type": "stream",
     "text": [
      "Validation loss decreased (inf --> 1000.756531). Saving model ...\n",
      "[0/5] | train_loss: 1.789 | train_acc: 0.643 | val_loss: 1000.757 | val_acc: 1.00\n"
     ]
    },
    {
     "name": "stderr",
     "output_type": "stream",
     "text": [
      "100%|███████████████████████████████████████████| 12/12 [02:09<00:00, 10.83s/it]\n"
     ]
    },
    {
     "name": "stdout",
     "output_type": "stream",
     "text": [
      "Validation loss decreased (1000.756531 --> 481.209015). Saving model ...\n",
      "[1/5] | train_loss: 0.356 | train_acc: 0.821 | val_loss: 481.209 | val_acc: 1.00\n"
     ]
    },
    {
     "name": "stderr",
     "output_type": "stream",
     "text": [
      "100%|███████████████████████████████████████████| 12/12 [02:19<00:00, 11.63s/it]\n"
     ]
    },
    {
     "name": "stdout",
     "output_type": "stream",
     "text": [
      "Validation loss decreased (481.209015 --> 2.249826). Saving model ...\n",
      "[2/5] | train_loss: 0.132 | train_acc: 0.823 | val_loss: 2.250 | val_acc: 0.84\n"
     ]
    },
    {
     "name": "stderr",
     "output_type": "stream",
     "text": [
      "100%|███████████████████████████████████████████| 12/12 [02:38<00:00, 13.25s/it]\n"
     ]
    },
    {
     "name": "stdout",
     "output_type": "stream",
     "text": [
      "EarlyStopping counter: 1/5\n",
      "[3/5] | train_loss: 0.194 | train_acc: 0.719 | val_loss: 15.655 | val_acc: 0.33\n"
     ]
    },
    {
     "name": "stderr",
     "output_type": "stream",
     "text": [
      "  0%|                                                    | 0/12 [00:07<?, ?it/s]\n"
     ]
    },
    {
     "ename": "KeyboardInterrupt",
     "evalue": "",
     "output_type": "error",
     "traceback": [
      "\u001b[0;31m---------------------------------------------------------------------------\u001b[0m",
      "\u001b[0;31mKeyboardInterrupt\u001b[0m                         Traceback (most recent call last)",
      "Cell \u001b[0;32mIn[33], line 56\u001b[0m\n\u001b[1;32m     52\u001b[0m loss_fn \u001b[38;5;241m=\u001b[39m nn\u001b[38;5;241m.\u001b[39mCrossEntropyLoss(weight\u001b[38;5;241m=\u001b[39mclass_weights)\n\u001b[1;32m     54\u001b[0m \u001b[38;5;66;03m# Train the model with the balanced data\u001b[39;00m\n\u001b[1;32m     55\u001b[0m \u001b[38;5;66;03m#train(model, balanced_train_loader, val_loader, device, loss_fn)\u001b[39;00m\n\u001b[0;32m---> 56\u001b[0m train(sslnet, balanced_train_loader, val_loader, device, loss_fn)\n",
      "Cell \u001b[0;32mIn[25], line 24\u001b[0m, in \u001b[0;36mtrain\u001b[0;34m(model, train_loader, val_loader, device, loss_fn, num_epoch, state_dict)\u001b[0m\n\u001b[1;32m     21\u001b[0m true_y \u001b[38;5;241m=\u001b[39m y\u001b[38;5;241m.\u001b[39mto(device, dtype\u001b[38;5;241m=\u001b[39mtorch\u001b[38;5;241m.\u001b[39mlong)\n\u001b[1;32m     23\u001b[0m optimizer\u001b[38;5;241m.\u001b[39mzero_grad()\n\u001b[0;32m---> 24\u001b[0m logits \u001b[38;5;241m=\u001b[39m model(x)\n\u001b[1;32m     25\u001b[0m loss \u001b[38;5;241m=\u001b[39m loss_fn(logits, true_y)\n\u001b[1;32m     26\u001b[0m loss\u001b[38;5;241m.\u001b[39mbackward()\n",
      "File \u001b[0;32m/Applications/anaconda3/lib/python3.12/site-packages/torch/nn/modules/module.py:1736\u001b[0m, in \u001b[0;36mModule._wrapped_call_impl\u001b[0;34m(self, *args, **kwargs)\u001b[0m\n\u001b[1;32m   1734\u001b[0m     \u001b[38;5;28;01mreturn\u001b[39;00m \u001b[38;5;28mself\u001b[39m\u001b[38;5;241m.\u001b[39m_compiled_call_impl(\u001b[38;5;241m*\u001b[39margs, \u001b[38;5;241m*\u001b[39m\u001b[38;5;241m*\u001b[39mkwargs)  \u001b[38;5;66;03m# type: ignore[misc]\u001b[39;00m\n\u001b[1;32m   1735\u001b[0m \u001b[38;5;28;01melse\u001b[39;00m:\n\u001b[0;32m-> 1736\u001b[0m     \u001b[38;5;28;01mreturn\u001b[39;00m \u001b[38;5;28mself\u001b[39m\u001b[38;5;241m.\u001b[39m_call_impl(\u001b[38;5;241m*\u001b[39margs, \u001b[38;5;241m*\u001b[39m\u001b[38;5;241m*\u001b[39mkwargs)\n",
      "File \u001b[0;32m/Applications/anaconda3/lib/python3.12/site-packages/torch/nn/modules/module.py:1747\u001b[0m, in \u001b[0;36mModule._call_impl\u001b[0;34m(self, *args, **kwargs)\u001b[0m\n\u001b[1;32m   1742\u001b[0m \u001b[38;5;66;03m# If we don't have any hooks, we want to skip the rest of the logic in\u001b[39;00m\n\u001b[1;32m   1743\u001b[0m \u001b[38;5;66;03m# this function, and just call forward.\u001b[39;00m\n\u001b[1;32m   1744\u001b[0m \u001b[38;5;28;01mif\u001b[39;00m \u001b[38;5;129;01mnot\u001b[39;00m (\u001b[38;5;28mself\u001b[39m\u001b[38;5;241m.\u001b[39m_backward_hooks \u001b[38;5;129;01mor\u001b[39;00m \u001b[38;5;28mself\u001b[39m\u001b[38;5;241m.\u001b[39m_backward_pre_hooks \u001b[38;5;129;01mor\u001b[39;00m \u001b[38;5;28mself\u001b[39m\u001b[38;5;241m.\u001b[39m_forward_hooks \u001b[38;5;129;01mor\u001b[39;00m \u001b[38;5;28mself\u001b[39m\u001b[38;5;241m.\u001b[39m_forward_pre_hooks\n\u001b[1;32m   1745\u001b[0m         \u001b[38;5;129;01mor\u001b[39;00m _global_backward_pre_hooks \u001b[38;5;129;01mor\u001b[39;00m _global_backward_hooks\n\u001b[1;32m   1746\u001b[0m         \u001b[38;5;129;01mor\u001b[39;00m _global_forward_hooks \u001b[38;5;129;01mor\u001b[39;00m _global_forward_pre_hooks):\n\u001b[0;32m-> 1747\u001b[0m     \u001b[38;5;28;01mreturn\u001b[39;00m forward_call(\u001b[38;5;241m*\u001b[39margs, \u001b[38;5;241m*\u001b[39m\u001b[38;5;241m*\u001b[39mkwargs)\n\u001b[1;32m   1749\u001b[0m result \u001b[38;5;241m=\u001b[39m \u001b[38;5;28;01mNone\u001b[39;00m\n\u001b[1;32m   1750\u001b[0m called_always_called_hooks \u001b[38;5;241m=\u001b[39m \u001b[38;5;28mset\u001b[39m()\n",
      "File \u001b[0;32m~/.cache/torch/hub/OxWearables_ssl-wearables_main/sslearning/models/accNet.py:836\u001b[0m, in \u001b[0;36mResnet.forward\u001b[0;34m(self, x)\u001b[0m\n\u001b[1;32m    835\u001b[0m \u001b[38;5;28;01mdef\u001b[39;00m \u001b[38;5;21mforward\u001b[39m(\u001b[38;5;28mself\u001b[39m, x):\n\u001b[0;32m--> 836\u001b[0m     feats \u001b[38;5;241m=\u001b[39m \u001b[38;5;28mself\u001b[39m\u001b[38;5;241m.\u001b[39mfeature_extractor(x)\n\u001b[1;32m    838\u001b[0m     \u001b[38;5;28;01mif\u001b[39;00m \u001b[38;5;28mself\u001b[39m\u001b[38;5;241m.\u001b[39mis_mtl:\n\u001b[1;32m    839\u001b[0m         aot_y \u001b[38;5;241m=\u001b[39m \u001b[38;5;28mself\u001b[39m\u001b[38;5;241m.\u001b[39maot_h(feats\u001b[38;5;241m.\u001b[39mview(x\u001b[38;5;241m.\u001b[39mshape[\u001b[38;5;241m0\u001b[39m], \u001b[38;5;241m-\u001b[39m\u001b[38;5;241m1\u001b[39m))\n",
      "File \u001b[0;32m/Applications/anaconda3/lib/python3.12/site-packages/torch/nn/modules/module.py:1736\u001b[0m, in \u001b[0;36mModule._wrapped_call_impl\u001b[0;34m(self, *args, **kwargs)\u001b[0m\n\u001b[1;32m   1734\u001b[0m     \u001b[38;5;28;01mreturn\u001b[39;00m \u001b[38;5;28mself\u001b[39m\u001b[38;5;241m.\u001b[39m_compiled_call_impl(\u001b[38;5;241m*\u001b[39margs, \u001b[38;5;241m*\u001b[39m\u001b[38;5;241m*\u001b[39mkwargs)  \u001b[38;5;66;03m# type: ignore[misc]\u001b[39;00m\n\u001b[1;32m   1735\u001b[0m \u001b[38;5;28;01melse\u001b[39;00m:\n\u001b[0;32m-> 1736\u001b[0m     \u001b[38;5;28;01mreturn\u001b[39;00m \u001b[38;5;28mself\u001b[39m\u001b[38;5;241m.\u001b[39m_call_impl(\u001b[38;5;241m*\u001b[39margs, \u001b[38;5;241m*\u001b[39m\u001b[38;5;241m*\u001b[39mkwargs)\n",
      "File \u001b[0;32m/Applications/anaconda3/lib/python3.12/site-packages/torch/nn/modules/module.py:1747\u001b[0m, in \u001b[0;36mModule._call_impl\u001b[0;34m(self, *args, **kwargs)\u001b[0m\n\u001b[1;32m   1742\u001b[0m \u001b[38;5;66;03m# If we don't have any hooks, we want to skip the rest of the logic in\u001b[39;00m\n\u001b[1;32m   1743\u001b[0m \u001b[38;5;66;03m# this function, and just call forward.\u001b[39;00m\n\u001b[1;32m   1744\u001b[0m \u001b[38;5;28;01mif\u001b[39;00m \u001b[38;5;129;01mnot\u001b[39;00m (\u001b[38;5;28mself\u001b[39m\u001b[38;5;241m.\u001b[39m_backward_hooks \u001b[38;5;129;01mor\u001b[39;00m \u001b[38;5;28mself\u001b[39m\u001b[38;5;241m.\u001b[39m_backward_pre_hooks \u001b[38;5;129;01mor\u001b[39;00m \u001b[38;5;28mself\u001b[39m\u001b[38;5;241m.\u001b[39m_forward_hooks \u001b[38;5;129;01mor\u001b[39;00m \u001b[38;5;28mself\u001b[39m\u001b[38;5;241m.\u001b[39m_forward_pre_hooks\n\u001b[1;32m   1745\u001b[0m         \u001b[38;5;129;01mor\u001b[39;00m _global_backward_pre_hooks \u001b[38;5;129;01mor\u001b[39;00m _global_backward_hooks\n\u001b[1;32m   1746\u001b[0m         \u001b[38;5;129;01mor\u001b[39;00m _global_forward_hooks \u001b[38;5;129;01mor\u001b[39;00m _global_forward_pre_hooks):\n\u001b[0;32m-> 1747\u001b[0m     \u001b[38;5;28;01mreturn\u001b[39;00m forward_call(\u001b[38;5;241m*\u001b[39margs, \u001b[38;5;241m*\u001b[39m\u001b[38;5;241m*\u001b[39mkwargs)\n\u001b[1;32m   1749\u001b[0m result \u001b[38;5;241m=\u001b[39m \u001b[38;5;28;01mNone\u001b[39;00m\n\u001b[1;32m   1750\u001b[0m called_always_called_hooks \u001b[38;5;241m=\u001b[39m \u001b[38;5;28mset\u001b[39m()\n",
      "File \u001b[0;32m/Applications/anaconda3/lib/python3.12/site-packages/torch/nn/modules/container.py:250\u001b[0m, in \u001b[0;36mSequential.forward\u001b[0;34m(self, input)\u001b[0m\n\u001b[1;32m    248\u001b[0m \u001b[38;5;28;01mdef\u001b[39;00m \u001b[38;5;21mforward\u001b[39m(\u001b[38;5;28mself\u001b[39m, \u001b[38;5;28minput\u001b[39m):\n\u001b[1;32m    249\u001b[0m     \u001b[38;5;28;01mfor\u001b[39;00m module \u001b[38;5;129;01min\u001b[39;00m \u001b[38;5;28mself\u001b[39m:\n\u001b[0;32m--> 250\u001b[0m         \u001b[38;5;28minput\u001b[39m \u001b[38;5;241m=\u001b[39m module(\u001b[38;5;28minput\u001b[39m)\n\u001b[1;32m    251\u001b[0m     \u001b[38;5;28;01mreturn\u001b[39;00m \u001b[38;5;28minput\u001b[39m\n",
      "File \u001b[0;32m/Applications/anaconda3/lib/python3.12/site-packages/torch/nn/modules/module.py:1736\u001b[0m, in \u001b[0;36mModule._wrapped_call_impl\u001b[0;34m(self, *args, **kwargs)\u001b[0m\n\u001b[1;32m   1734\u001b[0m     \u001b[38;5;28;01mreturn\u001b[39;00m \u001b[38;5;28mself\u001b[39m\u001b[38;5;241m.\u001b[39m_compiled_call_impl(\u001b[38;5;241m*\u001b[39margs, \u001b[38;5;241m*\u001b[39m\u001b[38;5;241m*\u001b[39mkwargs)  \u001b[38;5;66;03m# type: ignore[misc]\u001b[39;00m\n\u001b[1;32m   1735\u001b[0m \u001b[38;5;28;01melse\u001b[39;00m:\n\u001b[0;32m-> 1736\u001b[0m     \u001b[38;5;28;01mreturn\u001b[39;00m \u001b[38;5;28mself\u001b[39m\u001b[38;5;241m.\u001b[39m_call_impl(\u001b[38;5;241m*\u001b[39margs, \u001b[38;5;241m*\u001b[39m\u001b[38;5;241m*\u001b[39mkwargs)\n",
      "File \u001b[0;32m/Applications/anaconda3/lib/python3.12/site-packages/torch/nn/modules/module.py:1747\u001b[0m, in \u001b[0;36mModule._call_impl\u001b[0;34m(self, *args, **kwargs)\u001b[0m\n\u001b[1;32m   1742\u001b[0m \u001b[38;5;66;03m# If we don't have any hooks, we want to skip the rest of the logic in\u001b[39;00m\n\u001b[1;32m   1743\u001b[0m \u001b[38;5;66;03m# this function, and just call forward.\u001b[39;00m\n\u001b[1;32m   1744\u001b[0m \u001b[38;5;28;01mif\u001b[39;00m \u001b[38;5;129;01mnot\u001b[39;00m (\u001b[38;5;28mself\u001b[39m\u001b[38;5;241m.\u001b[39m_backward_hooks \u001b[38;5;129;01mor\u001b[39;00m \u001b[38;5;28mself\u001b[39m\u001b[38;5;241m.\u001b[39m_backward_pre_hooks \u001b[38;5;129;01mor\u001b[39;00m \u001b[38;5;28mself\u001b[39m\u001b[38;5;241m.\u001b[39m_forward_hooks \u001b[38;5;129;01mor\u001b[39;00m \u001b[38;5;28mself\u001b[39m\u001b[38;5;241m.\u001b[39m_forward_pre_hooks\n\u001b[1;32m   1745\u001b[0m         \u001b[38;5;129;01mor\u001b[39;00m _global_backward_pre_hooks \u001b[38;5;129;01mor\u001b[39;00m _global_backward_hooks\n\u001b[1;32m   1746\u001b[0m         \u001b[38;5;129;01mor\u001b[39;00m _global_forward_hooks \u001b[38;5;129;01mor\u001b[39;00m _global_forward_pre_hooks):\n\u001b[0;32m-> 1747\u001b[0m     \u001b[38;5;28;01mreturn\u001b[39;00m forward_call(\u001b[38;5;241m*\u001b[39margs, \u001b[38;5;241m*\u001b[39m\u001b[38;5;241m*\u001b[39mkwargs)\n\u001b[1;32m   1749\u001b[0m result \u001b[38;5;241m=\u001b[39m \u001b[38;5;28;01mNone\u001b[39;00m\n\u001b[1;32m   1750\u001b[0m called_always_called_hooks \u001b[38;5;241m=\u001b[39m \u001b[38;5;28mset\u001b[39m()\n",
      "File \u001b[0;32m/Applications/anaconda3/lib/python3.12/site-packages/torch/nn/modules/container.py:250\u001b[0m, in \u001b[0;36mSequential.forward\u001b[0;34m(self, input)\u001b[0m\n\u001b[1;32m    248\u001b[0m \u001b[38;5;28;01mdef\u001b[39;00m \u001b[38;5;21mforward\u001b[39m(\u001b[38;5;28mself\u001b[39m, \u001b[38;5;28minput\u001b[39m):\n\u001b[1;32m    249\u001b[0m     \u001b[38;5;28;01mfor\u001b[39;00m module \u001b[38;5;129;01min\u001b[39;00m \u001b[38;5;28mself\u001b[39m:\n\u001b[0;32m--> 250\u001b[0m         \u001b[38;5;28minput\u001b[39m \u001b[38;5;241m=\u001b[39m module(\u001b[38;5;28minput\u001b[39m)\n\u001b[1;32m    251\u001b[0m     \u001b[38;5;28;01mreturn\u001b[39;00m \u001b[38;5;28minput\u001b[39m\n",
      "File \u001b[0;32m/Applications/anaconda3/lib/python3.12/site-packages/torch/nn/modules/module.py:1736\u001b[0m, in \u001b[0;36mModule._wrapped_call_impl\u001b[0;34m(self, *args, **kwargs)\u001b[0m\n\u001b[1;32m   1734\u001b[0m     \u001b[38;5;28;01mreturn\u001b[39;00m \u001b[38;5;28mself\u001b[39m\u001b[38;5;241m.\u001b[39m_compiled_call_impl(\u001b[38;5;241m*\u001b[39margs, \u001b[38;5;241m*\u001b[39m\u001b[38;5;241m*\u001b[39mkwargs)  \u001b[38;5;66;03m# type: ignore[misc]\u001b[39;00m\n\u001b[1;32m   1735\u001b[0m \u001b[38;5;28;01melse\u001b[39;00m:\n\u001b[0;32m-> 1736\u001b[0m     \u001b[38;5;28;01mreturn\u001b[39;00m \u001b[38;5;28mself\u001b[39m\u001b[38;5;241m.\u001b[39m_call_impl(\u001b[38;5;241m*\u001b[39margs, \u001b[38;5;241m*\u001b[39m\u001b[38;5;241m*\u001b[39mkwargs)\n",
      "File \u001b[0;32m/Applications/anaconda3/lib/python3.12/site-packages/torch/nn/modules/module.py:1747\u001b[0m, in \u001b[0;36mModule._call_impl\u001b[0;34m(self, *args, **kwargs)\u001b[0m\n\u001b[1;32m   1742\u001b[0m \u001b[38;5;66;03m# If we don't have any hooks, we want to skip the rest of the logic in\u001b[39;00m\n\u001b[1;32m   1743\u001b[0m \u001b[38;5;66;03m# this function, and just call forward.\u001b[39;00m\n\u001b[1;32m   1744\u001b[0m \u001b[38;5;28;01mif\u001b[39;00m \u001b[38;5;129;01mnot\u001b[39;00m (\u001b[38;5;28mself\u001b[39m\u001b[38;5;241m.\u001b[39m_backward_hooks \u001b[38;5;129;01mor\u001b[39;00m \u001b[38;5;28mself\u001b[39m\u001b[38;5;241m.\u001b[39m_backward_pre_hooks \u001b[38;5;129;01mor\u001b[39;00m \u001b[38;5;28mself\u001b[39m\u001b[38;5;241m.\u001b[39m_forward_hooks \u001b[38;5;129;01mor\u001b[39;00m \u001b[38;5;28mself\u001b[39m\u001b[38;5;241m.\u001b[39m_forward_pre_hooks\n\u001b[1;32m   1745\u001b[0m         \u001b[38;5;129;01mor\u001b[39;00m _global_backward_pre_hooks \u001b[38;5;129;01mor\u001b[39;00m _global_backward_hooks\n\u001b[1;32m   1746\u001b[0m         \u001b[38;5;129;01mor\u001b[39;00m _global_forward_hooks \u001b[38;5;129;01mor\u001b[39;00m _global_forward_pre_hooks):\n\u001b[0;32m-> 1747\u001b[0m     \u001b[38;5;28;01mreturn\u001b[39;00m forward_call(\u001b[38;5;241m*\u001b[39margs, \u001b[38;5;241m*\u001b[39m\u001b[38;5;241m*\u001b[39mkwargs)\n\u001b[1;32m   1749\u001b[0m result \u001b[38;5;241m=\u001b[39m \u001b[38;5;28;01mNone\u001b[39;00m\n\u001b[1;32m   1750\u001b[0m called_always_called_hooks \u001b[38;5;241m=\u001b[39m \u001b[38;5;28mset\u001b[39m()\n",
      "File \u001b[0;32m~/.cache/torch/hub/OxWearables_ssl-wearables_main/sslearning/models/accNet.py:641\u001b[0m, in \u001b[0;36mResBlock.forward\u001b[0;34m(self, x)\u001b[0m\n\u001b[1;32m    639\u001b[0m identity \u001b[38;5;241m=\u001b[39m x\n\u001b[1;32m    640\u001b[0m x \u001b[38;5;241m=\u001b[39m \u001b[38;5;28mself\u001b[39m\u001b[38;5;241m.\u001b[39mrelu(\u001b[38;5;28mself\u001b[39m\u001b[38;5;241m.\u001b[39mbn1(x))\n\u001b[0;32m--> 641\u001b[0m x \u001b[38;5;241m=\u001b[39m \u001b[38;5;28mself\u001b[39m\u001b[38;5;241m.\u001b[39mconv1(x)\n\u001b[1;32m    642\u001b[0m x \u001b[38;5;241m=\u001b[39m \u001b[38;5;28mself\u001b[39m\u001b[38;5;241m.\u001b[39mrelu(\u001b[38;5;28mself\u001b[39m\u001b[38;5;241m.\u001b[39mbn2(x))\n\u001b[1;32m    643\u001b[0m x \u001b[38;5;241m=\u001b[39m \u001b[38;5;28mself\u001b[39m\u001b[38;5;241m.\u001b[39mconv2(x)\n",
      "File \u001b[0;32m/Applications/anaconda3/lib/python3.12/site-packages/torch/nn/modules/module.py:1736\u001b[0m, in \u001b[0;36mModule._wrapped_call_impl\u001b[0;34m(self, *args, **kwargs)\u001b[0m\n\u001b[1;32m   1734\u001b[0m     \u001b[38;5;28;01mreturn\u001b[39;00m \u001b[38;5;28mself\u001b[39m\u001b[38;5;241m.\u001b[39m_compiled_call_impl(\u001b[38;5;241m*\u001b[39margs, \u001b[38;5;241m*\u001b[39m\u001b[38;5;241m*\u001b[39mkwargs)  \u001b[38;5;66;03m# type: ignore[misc]\u001b[39;00m\n\u001b[1;32m   1735\u001b[0m \u001b[38;5;28;01melse\u001b[39;00m:\n\u001b[0;32m-> 1736\u001b[0m     \u001b[38;5;28;01mreturn\u001b[39;00m \u001b[38;5;28mself\u001b[39m\u001b[38;5;241m.\u001b[39m_call_impl(\u001b[38;5;241m*\u001b[39margs, \u001b[38;5;241m*\u001b[39m\u001b[38;5;241m*\u001b[39mkwargs)\n",
      "File \u001b[0;32m/Applications/anaconda3/lib/python3.12/site-packages/torch/nn/modules/module.py:1747\u001b[0m, in \u001b[0;36mModule._call_impl\u001b[0;34m(self, *args, **kwargs)\u001b[0m\n\u001b[1;32m   1742\u001b[0m \u001b[38;5;66;03m# If we don't have any hooks, we want to skip the rest of the logic in\u001b[39;00m\n\u001b[1;32m   1743\u001b[0m \u001b[38;5;66;03m# this function, and just call forward.\u001b[39;00m\n\u001b[1;32m   1744\u001b[0m \u001b[38;5;28;01mif\u001b[39;00m \u001b[38;5;129;01mnot\u001b[39;00m (\u001b[38;5;28mself\u001b[39m\u001b[38;5;241m.\u001b[39m_backward_hooks \u001b[38;5;129;01mor\u001b[39;00m \u001b[38;5;28mself\u001b[39m\u001b[38;5;241m.\u001b[39m_backward_pre_hooks \u001b[38;5;129;01mor\u001b[39;00m \u001b[38;5;28mself\u001b[39m\u001b[38;5;241m.\u001b[39m_forward_hooks \u001b[38;5;129;01mor\u001b[39;00m \u001b[38;5;28mself\u001b[39m\u001b[38;5;241m.\u001b[39m_forward_pre_hooks\n\u001b[1;32m   1745\u001b[0m         \u001b[38;5;129;01mor\u001b[39;00m _global_backward_pre_hooks \u001b[38;5;129;01mor\u001b[39;00m _global_backward_hooks\n\u001b[1;32m   1746\u001b[0m         \u001b[38;5;129;01mor\u001b[39;00m _global_forward_hooks \u001b[38;5;129;01mor\u001b[39;00m _global_forward_pre_hooks):\n\u001b[0;32m-> 1747\u001b[0m     \u001b[38;5;28;01mreturn\u001b[39;00m forward_call(\u001b[38;5;241m*\u001b[39margs, \u001b[38;5;241m*\u001b[39m\u001b[38;5;241m*\u001b[39mkwargs)\n\u001b[1;32m   1749\u001b[0m result \u001b[38;5;241m=\u001b[39m \u001b[38;5;28;01mNone\u001b[39;00m\n\u001b[1;32m   1750\u001b[0m called_always_called_hooks \u001b[38;5;241m=\u001b[39m \u001b[38;5;28mset\u001b[39m()\n",
      "File \u001b[0;32m/Applications/anaconda3/lib/python3.12/site-packages/torch/nn/modules/conv.py:375\u001b[0m, in \u001b[0;36mConv1d.forward\u001b[0;34m(self, input)\u001b[0m\n\u001b[1;32m    374\u001b[0m \u001b[38;5;28;01mdef\u001b[39;00m \u001b[38;5;21mforward\u001b[39m(\u001b[38;5;28mself\u001b[39m, \u001b[38;5;28minput\u001b[39m: Tensor) \u001b[38;5;241m-\u001b[39m\u001b[38;5;241m>\u001b[39m Tensor:\n\u001b[0;32m--> 375\u001b[0m     \u001b[38;5;28;01mreturn\u001b[39;00m \u001b[38;5;28mself\u001b[39m\u001b[38;5;241m.\u001b[39m_conv_forward(\u001b[38;5;28minput\u001b[39m, \u001b[38;5;28mself\u001b[39m\u001b[38;5;241m.\u001b[39mweight, \u001b[38;5;28mself\u001b[39m\u001b[38;5;241m.\u001b[39mbias)\n",
      "File \u001b[0;32m/Applications/anaconda3/lib/python3.12/site-packages/torch/nn/modules/conv.py:359\u001b[0m, in \u001b[0;36mConv1d._conv_forward\u001b[0;34m(self, input, weight, bias)\u001b[0m\n\u001b[1;32m    357\u001b[0m \u001b[38;5;28;01mdef\u001b[39;00m \u001b[38;5;21m_conv_forward\u001b[39m(\u001b[38;5;28mself\u001b[39m, \u001b[38;5;28minput\u001b[39m: Tensor, weight: Tensor, bias: Optional[Tensor]):\n\u001b[1;32m    358\u001b[0m     \u001b[38;5;28;01mif\u001b[39;00m \u001b[38;5;28mself\u001b[39m\u001b[38;5;241m.\u001b[39mpadding_mode \u001b[38;5;241m!=\u001b[39m \u001b[38;5;124m\"\u001b[39m\u001b[38;5;124mzeros\u001b[39m\u001b[38;5;124m\"\u001b[39m:\n\u001b[0;32m--> 359\u001b[0m         \u001b[38;5;28;01mreturn\u001b[39;00m F\u001b[38;5;241m.\u001b[39mconv1d(\n\u001b[1;32m    360\u001b[0m             F\u001b[38;5;241m.\u001b[39mpad(\n\u001b[1;32m    361\u001b[0m                 \u001b[38;5;28minput\u001b[39m, \u001b[38;5;28mself\u001b[39m\u001b[38;5;241m.\u001b[39m_reversed_padding_repeated_twice, mode\u001b[38;5;241m=\u001b[39m\u001b[38;5;28mself\u001b[39m\u001b[38;5;241m.\u001b[39mpadding_mode\n\u001b[1;32m    362\u001b[0m             ),\n\u001b[1;32m    363\u001b[0m             weight,\n\u001b[1;32m    364\u001b[0m             bias,\n\u001b[1;32m    365\u001b[0m             \u001b[38;5;28mself\u001b[39m\u001b[38;5;241m.\u001b[39mstride,\n\u001b[1;32m    366\u001b[0m             _single(\u001b[38;5;241m0\u001b[39m),\n\u001b[1;32m    367\u001b[0m             \u001b[38;5;28mself\u001b[39m\u001b[38;5;241m.\u001b[39mdilation,\n\u001b[1;32m    368\u001b[0m             \u001b[38;5;28mself\u001b[39m\u001b[38;5;241m.\u001b[39mgroups,\n\u001b[1;32m    369\u001b[0m         )\n\u001b[1;32m    370\u001b[0m     \u001b[38;5;28;01mreturn\u001b[39;00m F\u001b[38;5;241m.\u001b[39mconv1d(\n\u001b[1;32m    371\u001b[0m         \u001b[38;5;28minput\u001b[39m, weight, bias, \u001b[38;5;28mself\u001b[39m\u001b[38;5;241m.\u001b[39mstride, \u001b[38;5;28mself\u001b[39m\u001b[38;5;241m.\u001b[39mpadding, \u001b[38;5;28mself\u001b[39m\u001b[38;5;241m.\u001b[39mdilation, \u001b[38;5;28mself\u001b[39m\u001b[38;5;241m.\u001b[39mgroups\n\u001b[1;32m    372\u001b[0m     )\n",
      "\u001b[0;31mKeyboardInterrupt\u001b[0m: "
     ]
    }
   ],
   "source": [
    "def random_oversample(train_loader, device):\n",
    "    all_data=[]\n",
    "    all_labels=[]\n",
    "    all_metadata=[]\n",
    "    for x, y, metadata in train_loader:\n",
    "        all_data.append(x.view(x.size(0), -1))  \n",
    "        all_labels.append(y)\n",
    "        all_metadata.append(metadata)  \n",
    "        all_data= torch.cat(all_data,dim=0).cpu().numpy() \n",
    "    all_labels =torch.cat(all_labels,dim=0).cpu().numpy()\n",
    "    all_metadata= torch.cat(all_metadata,dim=0).cpu().numpy() \n",
    "    \n",
    "    ros = RandomOverSampler(random_state=42)\n",
    "    X_resampled, y_resampled =ros.fit_resample(all_data,all_labels)\n",
    "    indices = ros.sample_indices_\n",
    "    metadata_resampled= all_metadata[indices]\n",
    "    X_resampled = torch.tensor(X_resampled).to(device).view(-1,3, 1000) \n",
    "    y_resampled= torch.tensor(y_resampled).to(device)\n",
    "    metadata_resampled = torch.tensor(metadata_resampled).to(device)\n",
    "    resampled_dataset =TensorDataset(X_resampled, y_resampled, metadata_resampled)\n",
    "    resampled_loader= DataLoader(resampled_dataset, batch_size=train_loader.batch_size, shuffle=True)\n",
    "    return resampled_loader\n",
    "\n",
    "balanced_train_loader = random_oversample(train_loader, device)\n",
    "balanced_classes = Counter(y.item() for _, y_batch, _ in balanced_train_loader for y in y_batch)\n",
    "print(\"Class distribution after Random Oversampling:\", balanced_classes)\n",
    "\n",
    "class_weights = torch.tensor(get_inverse_class_weights(y_train), dtype=torch.float).to(device)\n",
    "loss_fn = nn.CrossEntropyLoss(weight=class_weights)\n",
    "train(sslnet, balanced_train_loader, val_loader, device, loss_fn)"
   ]
  },
  {
   "cell_type": "code",
   "execution_count": 41,
   "id": "62bc0871-c9a0-47e5-8230-92d717623105",
   "metadata": {},
   "outputs": [
    {
     "name": "stdout",
     "output_type": "stream",
     "text": [
      "[tensor([[[-0.0143, -0.0113, -0.0258,  ...,  0.0236,  0.0236,  0.0236],\n",
      "         [-0.1942, -0.1114, -0.0710,  ...,  0.3786,  0.3786,  0.3786],\n",
      "         [ 0.8867,  1.0207,  1.0674,  ...,  0.9193,  0.9193,  0.9193]],\n",
      "\n",
      "        [[-0.7366, -0.7368, -0.7481,  ..., -0.7665, -0.8016, -0.7404],\n",
      "         [ 0.0775,  0.0815,  0.0786,  ..., -0.0435, -0.0698, -0.0854],\n",
      "         [ 0.7106,  0.7133,  0.7050,  ...,  0.7487,  0.7974,  0.7713]],\n",
      "\n",
      "        [[-0.7366, -0.7368, -0.7481,  ..., -0.7665, -0.8016, -0.7404],\n",
      "         [ 0.0775,  0.0815,  0.0786,  ..., -0.0435, -0.0698, -0.0854],\n",
      "         [ 0.7106,  0.7133,  0.7050,  ...,  0.7487,  0.7974,  0.7713]],\n",
      "\n",
      "        ...,\n",
      "\n",
      "        [[-0.7366, -0.7368, -0.7481,  ..., -0.7665, -0.8016, -0.7404],\n",
      "         [ 0.0775,  0.0815,  0.0786,  ..., -0.0435, -0.0698, -0.0854],\n",
      "         [ 0.7106,  0.7133,  0.7050,  ...,  0.7487,  0.7974,  0.7713]],\n",
      "\n",
      "        [[-0.7366, -0.7368, -0.7481,  ..., -0.7665, -0.8016, -0.7404],\n",
      "         [ 0.0775,  0.0815,  0.0786,  ..., -0.0435, -0.0698, -0.0854],\n",
      "         [ 0.7106,  0.7133,  0.7050,  ...,  0.7487,  0.7974,  0.7713]],\n",
      "\n",
      "        [[ 0.6745,  0.6690,  0.6624,  ...,  0.6742,  0.6733,  0.6688],\n",
      "         [ 0.3482,  0.3426,  0.3367,  ...,  0.3313,  0.3309,  0.3288],\n",
      "         [ 0.6651,  0.6584,  0.6504,  ...,  0.6703,  0.6703,  0.6703]]],\n",
      "       dtype=torch.float64), tensor([0, 1, 1, 1, 0, 1, 1, 0, 0, 1, 1, 0, 1, 1, 1, 1, 1, 0, 1, 1, 1, 0, 0, 0,\n",
      "        0, 1, 1, 0, 1, 0, 1, 1, 0, 1, 0, 1, 1, 0, 1, 1, 1, 0, 1, 0, 0, 1, 0, 1,\n",
      "        1, 1, 1, 0, 0, 0, 0, 1, 0, 0, 1, 1, 0, 0, 0, 0, 0, 1, 1, 0, 0, 1, 1, 0,\n",
      "        0, 0, 1, 0, 0, 0, 1, 0, 1, 0, 0, 0, 1, 0, 1, 1, 1, 0, 1, 0, 0, 0, 1, 1,\n",
      "        0, 0, 0, 0, 0, 0, 0, 1, 0, 0, 0, 1, 0, 1, 1, 0, 0, 0, 1, 1, 1, 0, 0, 1,\n",
      "        0, 0, 1, 1, 0, 1, 1, 0]), tensor([ 1,  5,  5,  5,  5,  5,  5, 10,  6,  5,  5,  1,  5,  5,  5,  5,  5,  8,\n",
      "         5,  5,  5, 10,  6,  4,  8,  5,  5, 10,  5,  1,  5,  5,  4,  5,  2,  5,\n",
      "         5,  7,  5,  5,  5,  6,  5,  9,  7,  5,  3,  5,  5,  5,  5,  5,  1,  5,\n",
      "         9,  5,  4,  4,  5,  5,  1,  1,  5,  5,  8,  5,  5,  8,  7,  5,  5,  9,\n",
      "         5,  8,  5,  2,  1,  5,  5,  3,  5,  9, 10,  7,  5, 10,  5,  5,  5, 10,\n",
      "         5, 10,  9,  1,  5,  5,  8,  9,  3,  7,  3,  1,  2,  5,  6,  6,  8,  5,\n",
      "         6,  5,  5,  7,  4,  2,  5,  5,  5,  3,  5,  5,  7,  4,  5,  5, 10,  5,\n",
      "         5,  3])]\n"
     ]
    }
   ],
   "source": [
    "for x in balanced_train_loader:\n",
    "    print(x)\n",
    "    break"
   ]
  },
  {
   "cell_type": "code",
   "execution_count": 48,
   "id": "4189c85d-f237-4466-be92-8574d64a1ea4",
   "metadata": {},
   "outputs": [
    {
     "ename": "ValueError",
     "evalue": "Found input variables with inconsistent numbers of samples: [359, 359999]",
     "output_type": "error",
     "traceback": [
      "\u001b[0;31m---------------------------------------------------------------------------\u001b[0m",
      "\u001b[0;31mValueError\u001b[0m                                Traceback (most recent call last)",
      "Cell \u001b[0;32mIn[48], line 46\u001b[0m\n\u001b[1;32m     43\u001b[0m X_windows, y_windows, group_windows \u001b[38;5;241m=\u001b[39m create_windows(X, y, groups, window_size)\n\u001b[1;32m     45\u001b[0m \u001b[38;5;66;03m# Split the data into train, validation, and test sets\u001b[39;00m\n\u001b[0;32m---> 46\u001b[0m x_train, x_temp, y_train, y_temp, group_train, group_temp \u001b[38;5;241m=\u001b[39m train_test_split(\n\u001b[1;32m     47\u001b[0m     X_windows, y_windows, group_windows, test_size\u001b[38;5;241m=\u001b[39m\u001b[38;5;241m0.3\u001b[39m, random_state\u001b[38;5;241m=\u001b[39m\u001b[38;5;241m42\u001b[39m, stratify\u001b[38;5;241m=\u001b[39my\n\u001b[1;32m     48\u001b[0m )\n\u001b[1;32m     50\u001b[0m x_val, x_test, y_val, y_test, group_val, group_test \u001b[38;5;241m=\u001b[39m train_test_split(\n\u001b[1;32m     51\u001b[0m     x_temp, y_temp, group_temp, test_size\u001b[38;5;241m=\u001b[39m\u001b[38;5;241m0.5\u001b[39m, random_state\u001b[38;5;241m=\u001b[39m\u001b[38;5;241m42\u001b[39m, stratify\u001b[38;5;241m=\u001b[39my\n\u001b[1;32m     52\u001b[0m )\n\u001b[1;32m     54\u001b[0m \u001b[38;5;66;03m# Output the shapes as expected:\u001b[39;00m\n",
      "File \u001b[0;32m/Applications/anaconda3/lib/python3.12/site-packages/sklearn/utils/_param_validation.py:213\u001b[0m, in \u001b[0;36mvalidate_params.<locals>.decorator.<locals>.wrapper\u001b[0;34m(*args, **kwargs)\u001b[0m\n\u001b[1;32m    207\u001b[0m \u001b[38;5;28;01mtry\u001b[39;00m:\n\u001b[1;32m    208\u001b[0m     \u001b[38;5;28;01mwith\u001b[39;00m config_context(\n\u001b[1;32m    209\u001b[0m         skip_parameter_validation\u001b[38;5;241m=\u001b[39m(\n\u001b[1;32m    210\u001b[0m             prefer_skip_nested_validation \u001b[38;5;129;01mor\u001b[39;00m global_skip_validation\n\u001b[1;32m    211\u001b[0m         )\n\u001b[1;32m    212\u001b[0m     ):\n\u001b[0;32m--> 213\u001b[0m         \u001b[38;5;28;01mreturn\u001b[39;00m func(\u001b[38;5;241m*\u001b[39margs, \u001b[38;5;241m*\u001b[39m\u001b[38;5;241m*\u001b[39mkwargs)\n\u001b[1;32m    214\u001b[0m \u001b[38;5;28;01mexcept\u001b[39;00m InvalidParameterError \u001b[38;5;28;01mas\u001b[39;00m e:\n\u001b[1;32m    215\u001b[0m     \u001b[38;5;66;03m# When the function is just a wrapper around an estimator, we allow\u001b[39;00m\n\u001b[1;32m    216\u001b[0m     \u001b[38;5;66;03m# the function to delegate validation to the estimator, but we replace\u001b[39;00m\n\u001b[1;32m    217\u001b[0m     \u001b[38;5;66;03m# the name of the estimator by the name of the function in the error\u001b[39;00m\n\u001b[1;32m    218\u001b[0m     \u001b[38;5;66;03m# message to avoid confusion.\u001b[39;00m\n\u001b[1;32m    219\u001b[0m     msg \u001b[38;5;241m=\u001b[39m re\u001b[38;5;241m.\u001b[39msub(\n\u001b[1;32m    220\u001b[0m         \u001b[38;5;124mr\u001b[39m\u001b[38;5;124m\"\u001b[39m\u001b[38;5;124mparameter of \u001b[39m\u001b[38;5;124m\\\u001b[39m\u001b[38;5;124mw+ must be\u001b[39m\u001b[38;5;124m\"\u001b[39m,\n\u001b[1;32m    221\u001b[0m         \u001b[38;5;124mf\u001b[39m\u001b[38;5;124m\"\u001b[39m\u001b[38;5;124mparameter of \u001b[39m\u001b[38;5;132;01m{\u001b[39;00mfunc\u001b[38;5;241m.\u001b[39m\u001b[38;5;18m__qualname__\u001b[39m\u001b[38;5;132;01m}\u001b[39;00m\u001b[38;5;124m must be\u001b[39m\u001b[38;5;124m\"\u001b[39m,\n\u001b[1;32m    222\u001b[0m         \u001b[38;5;28mstr\u001b[39m(e),\n\u001b[1;32m    223\u001b[0m     )\n",
      "File \u001b[0;32m/Applications/anaconda3/lib/python3.12/site-packages/sklearn/model_selection/_split.py:2681\u001b[0m, in \u001b[0;36mtrain_test_split\u001b[0;34m(test_size, train_size, random_state, shuffle, stratify, *arrays)\u001b[0m\n\u001b[1;32m   2677\u001b[0m         CVClass \u001b[38;5;241m=\u001b[39m ShuffleSplit\n\u001b[1;32m   2679\u001b[0m     cv \u001b[38;5;241m=\u001b[39m CVClass(test_size\u001b[38;5;241m=\u001b[39mn_test, train_size\u001b[38;5;241m=\u001b[39mn_train, random_state\u001b[38;5;241m=\u001b[39mrandom_state)\n\u001b[0;32m-> 2681\u001b[0m     train, test \u001b[38;5;241m=\u001b[39m \u001b[38;5;28mnext\u001b[39m(cv\u001b[38;5;241m.\u001b[39msplit(X\u001b[38;5;241m=\u001b[39marrays[\u001b[38;5;241m0\u001b[39m], y\u001b[38;5;241m=\u001b[39mstratify))\n\u001b[1;32m   2683\u001b[0m \u001b[38;5;28;01mreturn\u001b[39;00m \u001b[38;5;28mlist\u001b[39m(\n\u001b[1;32m   2684\u001b[0m     chain\u001b[38;5;241m.\u001b[39mfrom_iterable(\n\u001b[1;32m   2685\u001b[0m         (_safe_indexing(a, train), _safe_indexing(a, test)) \u001b[38;5;28;01mfor\u001b[39;00m a \u001b[38;5;129;01min\u001b[39;00m arrays\n\u001b[1;32m   2686\u001b[0m     )\n\u001b[1;32m   2687\u001b[0m )\n",
      "File \u001b[0;32m/Applications/anaconda3/lib/python3.12/site-packages/sklearn/model_selection/_split.py:1748\u001b[0m, in \u001b[0;36mBaseShuffleSplit.split\u001b[0;34m(self, X, y, groups)\u001b[0m\n\u001b[1;32m   1718\u001b[0m \u001b[38;5;28;01mdef\u001b[39;00m \u001b[38;5;21msplit\u001b[39m(\u001b[38;5;28mself\u001b[39m, X, y\u001b[38;5;241m=\u001b[39m\u001b[38;5;28;01mNone\u001b[39;00m, groups\u001b[38;5;241m=\u001b[39m\u001b[38;5;28;01mNone\u001b[39;00m):\n\u001b[1;32m   1719\u001b[0m \u001b[38;5;250m    \u001b[39m\u001b[38;5;124;03m\"\"\"Generate indices to split data into training and test set.\u001b[39;00m\n\u001b[1;32m   1720\u001b[0m \n\u001b[1;32m   1721\u001b[0m \u001b[38;5;124;03m    Parameters\u001b[39;00m\n\u001b[0;32m   (...)\u001b[0m\n\u001b[1;32m   1746\u001b[0m \u001b[38;5;124;03m    to an integer.\u001b[39;00m\n\u001b[1;32m   1747\u001b[0m \u001b[38;5;124;03m    \"\"\"\u001b[39;00m\n\u001b[0;32m-> 1748\u001b[0m     X, y, groups \u001b[38;5;241m=\u001b[39m indexable(X, y, groups)\n\u001b[1;32m   1749\u001b[0m     \u001b[38;5;28;01mfor\u001b[39;00m train, test \u001b[38;5;129;01min\u001b[39;00m \u001b[38;5;28mself\u001b[39m\u001b[38;5;241m.\u001b[39m_iter_indices(X, y, groups):\n\u001b[1;32m   1750\u001b[0m         \u001b[38;5;28;01myield\u001b[39;00m train, test\n",
      "File \u001b[0;32m/Applications/anaconda3/lib/python3.12/site-packages/sklearn/utils/validation.py:514\u001b[0m, in \u001b[0;36mindexable\u001b[0;34m(*iterables)\u001b[0m\n\u001b[1;32m    484\u001b[0m \u001b[38;5;250m\u001b[39m\u001b[38;5;124;03m\"\"\"Make arrays indexable for cross-validation.\u001b[39;00m\n\u001b[1;32m    485\u001b[0m \n\u001b[1;32m    486\u001b[0m \u001b[38;5;124;03mChecks consistent length, passes through None, and ensures that everything\u001b[39;00m\n\u001b[0;32m   (...)\u001b[0m\n\u001b[1;32m    510\u001b[0m \u001b[38;5;124;03m[[1, 2, 3], array([2, 3, 4]), None, <3x1 sparse matrix ...>]\u001b[39;00m\n\u001b[1;32m    511\u001b[0m \u001b[38;5;124;03m\"\"\"\u001b[39;00m\n\u001b[1;32m    513\u001b[0m result \u001b[38;5;241m=\u001b[39m [_make_indexable(X) \u001b[38;5;28;01mfor\u001b[39;00m X \u001b[38;5;129;01min\u001b[39;00m iterables]\n\u001b[0;32m--> 514\u001b[0m check_consistent_length(\u001b[38;5;241m*\u001b[39mresult)\n\u001b[1;32m    515\u001b[0m \u001b[38;5;28;01mreturn\u001b[39;00m result\n",
      "File \u001b[0;32m/Applications/anaconda3/lib/python3.12/site-packages/sklearn/utils/validation.py:457\u001b[0m, in \u001b[0;36mcheck_consistent_length\u001b[0;34m(*arrays)\u001b[0m\n\u001b[1;32m    455\u001b[0m uniques \u001b[38;5;241m=\u001b[39m np\u001b[38;5;241m.\u001b[39munique(lengths)\n\u001b[1;32m    456\u001b[0m \u001b[38;5;28;01mif\u001b[39;00m \u001b[38;5;28mlen\u001b[39m(uniques) \u001b[38;5;241m>\u001b[39m \u001b[38;5;241m1\u001b[39m:\n\u001b[0;32m--> 457\u001b[0m     \u001b[38;5;28;01mraise\u001b[39;00m \u001b[38;5;167;01mValueError\u001b[39;00m(\n\u001b[1;32m    458\u001b[0m         \u001b[38;5;124m\"\u001b[39m\u001b[38;5;124mFound input variables with inconsistent numbers of samples: \u001b[39m\u001b[38;5;132;01m%r\u001b[39;00m\u001b[38;5;124m\"\u001b[39m\n\u001b[1;32m    459\u001b[0m         \u001b[38;5;241m%\u001b[39m [\u001b[38;5;28mint\u001b[39m(l) \u001b[38;5;28;01mfor\u001b[39;00m l \u001b[38;5;129;01min\u001b[39;00m lengths]\n\u001b[1;32m    460\u001b[0m     )\n",
      "\u001b[0;31mValueError\u001b[0m: Found input variables with inconsistent numbers of samples: [359, 359999]"
     ]
    }
   ],
   "source": [
    "# Looking for data leakage\n",
    "window_size= 1000\n",
    "X_windows, y_windows, group_windows = create_windows(X, y, groups, window_size)\n",
    "\n",
    "# Split the data into train, validation, and test sets\n",
    "x_train, x_temp, y_train, y_temp, group_train, group_temp = train_test_split(\n",
    "    X_windows, y_windows, group_windows, test_size=0.3, random_state=42\n",
    ")\n",
    "\n",
    "x_val, x_test, y_val, y_test, group_val, group_test = train_test_split(\n",
    "    x_temp, y_temp, group_temp, test_size=0.5, random_state=42\n",
    ")\n",
    "\n",
    "# Output the shapes as expected:\n",
    "print(((x_train.shape, y_train.shape, group_train.shape),\n",
    "       (x_val.shape, y_val.shape, group_val.shape),\n",
    "       (x_test.shape, y_test.shape, group_test.shape)))"
   ]
  },
  {
   "cell_type": "code",
   "execution_count": 62,
   "id": "ceecd3f4-7945-4c8c-8c7a-092e2f2e42b1",
   "metadata": {},
   "outputs": [
    {
     "name": "stdout",
     "output_type": "stream",
     "text": [
      "(((251, 1000, 3), (251,), (251,)), ((54, 1000, 3), (54,), (54,)), ((54, 1000, 3), (54,), (54,)))\n"
     ]
    }
   ],
   "source": [
    "# Fixing the Windowing \n",
    "def create_windows(X, y, groups, window_size):\n",
    "    X_windows=[]\n",
    "    y_windows=[]\n",
    "    group_windows=[]\n",
    "    num_windows=len(y)\n",
    "    for i in range(num_windows):\n",
    "        start_idx = i*window_size\n",
    "        end_idx = start_idx+window_size\n",
    "        if end_idx <=len(X):  \n",
    "            X_windows.append(X[start_idx:end_idx])\n",
    "            y_windows.append(y[i]) \n",
    "            group_windows.append(groups[i])  \n",
    "    X_windows = np.array(X_windows)\n",
    "    y_windows= np.array(y_windows)\n",
    "    group_windows =np.array(group_windows)\n",
    "    return X_windows, y_windows, group_windows\n",
    "\n",
    "x_windows, y_windows, group_windows = create_windows(X, y, groups, window_size)\n",
    "\n",
    "x_train, x_temp,y_train,y_temp, group_train, group_temp = train_test_split(\n",
    "    x_windows, y_windows, group_windows, test_size=0.3, random_state=42\n",
    ")\n",
    "\n",
    "x_val, x_test,y_val, y_test, group_val, group_test = train_test_split(\n",
    "    x_temp,y_temp, group_temp, test_size=0.5, random_state=42\n",
    ")\n",
    "\n",
    "# Output shapes:\n",
    "print(((x_train.shape, y_train.shape, group_train.shape),\n",
    "       (x_val.shape, y_val.shape, group_val.shape),\n",
    "       (x_test.shape, y_test.shape, group_test.shape)))"
   ]
  },
  {
   "cell_type": "code",
   "execution_count": 60,
   "id": "2807fd3a-f25f-4d43-b616-88004a3ea79b",
   "metadata": {},
   "outputs": [
    {
     "name": "stdout",
     "output_type": "stream",
     "text": [
      "Counter({0: 359})\n"
     ]
    }
   ],
   "source": [
    "print(Counter(y_windows)) "
   ]
  },
  {
   "cell_type": "code",
   "execution_count": 64,
   "id": "a23f7cce-372a-4550-9666-1d4a4050bb2b",
   "metadata": {},
   "outputs": [
    {
     "name": "stdout",
     "output_type": "stream",
     "text": [
      "training set sample count : 251\n",
      "validation set sample count : 54\n",
      "test set sample count : 54\n"
     ]
    }
   ],
   "source": [
    "train_dataset = NormalDataset(x_train, y_train, group_train, name=\"training\", transform=True)\n",
    "val_dataset = NormalDataset(x_val, y_val, group_val, name=\"validation\")\n",
    "test_dataset = NormalDataset(x_test, y_test, group_test, name=\"test\")\n",
    "\n",
    "train_loader = DataLoader(\n",
    "    train_dataset,\n",
    "    batch_size=128,\n",
    "    shuffle=True,\n",
    "    num_workers=2,\n",
    ")\n",
    "val_loader = DataLoader(\n",
    "    val_dataset,\n",
    "    batch_size=128,\n",
    "    shuffle=False,\n",
    "    num_workers=0,\n",
    ")\n",
    "test_loader = DataLoader(\n",
    "    test_dataset,\n",
    "    batch_size=128,\n",
    "    shuffle=False,\n",
    "    num_workers=0,\n",
    ")"
   ]
  },
  {
   "cell_type": "markdown",
   "id": "2a27ae67-491c-4923-a4a3-f61108bd17cd",
   "metadata": {},
   "source": [
    "### Random Oversampling Minority With No Noise"
   ]
  },
  {
   "cell_type": "code",
   "execution_count": null,
   "id": "c242194b-628a-4a48-b9b4-018d0f907a2d",
   "metadata": {},
   "outputs": [],
   "source": [
    "\n",
    "def random_oversample(train_loader, device):\n",
    "    all_data=[]\n",
    "    all_labels=[]\n",
    "    all_metadata=[]\n",
    "    for x, y, metadata in train_loader:\n",
    "        all_data.append(x.view(x.size(0), -1))  \n",
    "        all_labels.append(y)\n",
    "        all_metadata.append(metadata)  \n",
    "        all_data= torch.cat(all_data,dim=0).cpu().numpy() \n",
    "    all_labels =torch.cat(all_labels,dim=0).cpu().numpy()\n",
    "    all_metadata= torch.cat(all_metadata,dim=0).cpu().numpy() \n",
    "    \n",
    "    ros = RandomOverSampler(random_state=42)\n",
    "    X_resampled, y_resampled =ros.fit_resample(all_data,all_labels)\n",
    "    indices = ros.sample_indices_\n",
    "    metadata_resampled= all_metadata[indices]\n",
    "    X_resampled = torch.tensor(X_resampled).to(device).view(-1,3, 1000) \n",
    "    y_resampled= torch.tensor(y_resampled).to(device)\n",
    "    metadata_resampled = torch.tensor(metadata_resampled).to(device)\n",
    "    resampled_dataset =TensorDataset(X_resampled, y_resampled, metadata_resampled)\n",
    "    resampled_loader= DataLoader(resampled_dataset, batch_size=train_loader.batch_size, shuffle=True)\n",
    "    return resampled_loader\n",
    "\n",
    "balanced_train_loader = random_oversample(train_loader, device)\n",
    "balanced_classes = Counter(y.item() for _, y_batch, _ in balanced_train_loader for y in y_batch)\n",
    "print(\"Class distribution after Random Oversampling:\", balanced_classes)\n",
    "\n",
    "class_weights = torch.tensor(get_inverse_class_weights(y_train), dtype=torch.float).to(device)\n",
    "loss_fn = nn.CrossEntropyLoss(weight=class_weights)\n",
    "train(sslnet, balanced_train_loader, val_loader, device, loss_fn)"
   ]
  },
  {
   "cell_type": "markdown",
   "id": "456b1741-f6c7-4ff6-b8ce-7d077c4031d4",
   "metadata": {},
   "source": [
    "### Random Oversampling Minority Class With Noise"
   ]
  },
  {
   "cell_type": "code",
   "execution_count": null,
   "id": "0439ac80-032f-434d-88ba-bb33e507fee1",
   "metadata": {},
   "outputs": [],
   "source": [
    "# Reshape the data into windows of size X\n",
    "def create_windows(data, labels, groups, window_size):\n",
    "    num_windows=data.shape[0]//window_size\n",
    "    X_windows=data[:num_windows*window_size].reshape(num_windows, window_size, -1)\n",
    "    y_windows = labels[window_size-1:num_windows *window_size:window_size]  # One label per window\n",
    "    group_windows= groups[window_size-1:num_windows *window_size:window_size]  # One group per window\n",
    "    return X_windows, y_windows,group_windows\n",
    "\n",
    "X = hip_data[['x', 'y', 'z']].values\n",
    "y = hip_data['annotation'].values\n",
    "groups = hip_data['group'].values\n",
    "\n",
    "window_size = 1000\n",
    "X_windows, y_windows, group_windows= create_windows(X, y, groups, window_size)\n",
    "x_train, x_temp, y_train, y_temp, group_train, group_temp = train_test_split(\n",
    "    X_windows, y_windows, group_windows, test_size=0.3, random_state=42\n",
    ")\n",
    "\n",
    "x_train_ros, y_train_ros = RandomOverSampler(random_state=42).fit_resample(x_train.reshape(x_train.shape[0], -1), y_train)\n",
    "noise_factor = 0.1 # Slight random noise, avoid duplications for minority\n",
    "x_train_ros= x_train_ros+(np.random.normal(size=x_train_ros.shape)*noise_factor)\n",
    "group_train_ros = np.tile(group_train,int(np.ceil(len(x_train_ros.reshape(-1, window_size, 3))/len(group_train))))[:len(x_train_ros.reshape(-1, window_size, 3))]\n",
    "\n",
    "x_val, x_test,y_val, y_test, group_val, group_test = train_test_split(\n",
    "    x_train_ros.reshape(-1, window_size, 3), y_train_ros, group_train_ros, test_size=0.5, random_state=42\n",
    ")\n",
    "print(((x_train_ros.reshape(-1, window_size, 3).shape, y_train_ros.shape, group_train_ros.shape),\n",
    "       (x_val.shape,y_val.shape, group_val.shape),\n",
    "       (x_test.shape, y_test.shape, group_test.shape)))"
   ]
  }
 ],
 "metadata": {
  "kernelspec": {
   "display_name": "Python 3 (ipykernel)",
   "language": "python",
   "name": "python3"
  },
  "language_info": {
   "codemirror_mode": {
    "name": "ipython",
    "version": 3
   },
   "file_extension": ".py",
   "mimetype": "text/x-python",
   "name": "python",
   "nbconvert_exporter": "python",
   "pygments_lexer": "ipython3",
   "version": "3.12.4"
  }
 },
 "nbformat": 4,
 "nbformat_minor": 5
}
